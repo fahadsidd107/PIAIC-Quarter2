{
 "cells": [
  {
   "cell_type": "markdown",
   "id": "f3547ebf",
   "metadata": {},
   "source": [
    "<center><h2><u>Name </u>: Muhammad Fahad Siddiqui</h2></center>\n",
    "<center><h2><u>Roll # </u>: PIAIC131745</h2></center>"
   ]
  },
  {
   "cell_type": "markdown",
   "id": "82dd9f11",
   "metadata": {},
   "source": [
    "# Pyautogui"
   ]
  },
  {
   "cell_type": "code",
   "execution_count": 1,
   "id": "076f4289",
   "metadata": {},
   "outputs": [],
   "source": [
    "import pyautogui\n",
    "import webbrowser\n",
    "import time"
   ]
  },
  {
   "cell_type": "code",
   "execution_count": 8,
   "id": "2998da55",
   "metadata": {},
   "outputs": [],
   "source": [
    "youtube_url = \"https://www.youtube.com/watch?v=MhYvz-50y0Y&t=395s&ab_channel=PIAIC\"\n",
    "facebook_url = \"https://www.facebook.com/piaic\""
   ]
  },
  {
   "cell_type": "code",
   "execution_count": 14,
   "id": "8bbc13c8",
   "metadata": {},
   "outputs": [
    {
     "data": {
      "text/plain": [
       "Point(x=303, y=349)"
      ]
     },
     "execution_count": 14,
     "metadata": {},
     "output_type": "execute_result"
    }
   ],
   "source": [
    "pyautogui.position()"
   ]
  },
  {
   "cell_type": "code",
   "execution_count": 5,
   "id": "1a43862d",
   "metadata": {},
   "outputs": [],
   "source": [
    "webbrowser.open(youtube_url)\n",
    "time.sleep(5)\n",
    "x, y = 402, 633\n",
    "pyautogui.click(x, y)\n",
    "pyautogui.typewrite(youtube_url)\n",
    "pyautogui.press('enter')"
   ]
  },
  {
   "cell_type": "code",
   "execution_count": 16,
   "id": "dd4a5c81",
   "metadata": {},
   "outputs": [],
   "source": [
    "time.sleep(5)\n",
    "webbrowser.open(facebook_url)\n",
    "time.sleep(5)\n",
    "x, y = 352, 400\n",
    "pyautogui.click(x, y)\n",
    "time.sleep(5)\n",
    "for i in range(1):\n",
    "    pyautogui.scroll(-5)  # negative value to scroll down\n",
    "    time.sleep(0.5) \n",
    "pyautogui.click(303, 349)"
   ]
  },
  {
   "cell_type": "code",
   "execution_count": null,
   "id": "80f0972b",
   "metadata": {},
   "outputs": [],
   "source": []
  }
 ],
 "metadata": {
  "kernelspec": {
   "display_name": "Python 3 (ipykernel)",
   "language": "python",
   "name": "python3"
  },
  "language_info": {
   "codemirror_mode": {
    "name": "ipython",
    "version": 3
   },
   "file_extension": ".py",
   "mimetype": "text/x-python",
   "name": "python",
   "nbconvert_exporter": "python",
   "pygments_lexer": "ipython3",
   "version": "3.9.13"
  }
 },
 "nbformat": 4,
 "nbformat_minor": 5
}
