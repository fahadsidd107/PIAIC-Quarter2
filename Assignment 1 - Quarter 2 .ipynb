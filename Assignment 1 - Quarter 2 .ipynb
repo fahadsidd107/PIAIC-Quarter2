{
 "cells": [
  {
   "cell_type": "markdown",
   "id": "75c509b5",
   "metadata": {},
   "source": [
    "<center><h2><u>Name </u>: Muhammad Fahad Siddiqui</h2></center>\n",
    "<center><h2><u>Roll # </u>: PIAIC131745</h2></center>"
   ]
  },
  {
   "cell_type": "markdown",
   "id": "2375a7a9",
   "metadata": {},
   "source": [
    "# Apply Numpy 20 Universal functions"
   ]
  },
  {
   "cell_type": "code",
   "execution_count": 1,
   "id": "03015fce",
   "metadata": {},
   "outputs": [
    {
     "name": "stdout",
     "output_type": "stream",
     "text": [
      "<module 'numpy' from '/home/fadflex/anaconda3/lib/python3.9/site-packages/numpy/__init__.py'>\n"
     ]
    }
   ],
   "source": [
    "#importing numpy \n",
    "\n",
    "import numpy as np\n",
    "print(np)\n"
   ]
  },
  {
   "cell_type": "code",
   "execution_count": 27,
   "id": "7a3671a7",
   "metadata": {},
   "outputs": [
    {
     "data": {
      "text/plain": [
       "array([[0, 1, 2],\n",
       "       [3, 4, 5],\n",
       "       [6, 7, 8]])"
      ]
     },
     "metadata": {},
     "output_type": "display_data"
    },
    {
     "data": {
      "text/plain": [
       "array([[ 0,  1,  4],\n",
       "       [ 9, 16, 25],\n",
       "       [36, 49, 64]])"
      ]
     },
     "metadata": {},
     "output_type": "display_data"
    },
    {
     "data": {
      "text/plain": [
       "array([-1, -2,  3,  4])"
      ]
     },
     "metadata": {},
     "output_type": "display_data"
    },
    {
     "data": {
      "text/plain": [
       "array([ 1,  4,  9, 16])"
      ]
     },
     "metadata": {},
     "output_type": "display_data"
    },
    {
     "data": {
      "text/plain": [
       "array([   10,   100,  1000, 10000])"
      ]
     },
     "metadata": {},
     "output_type": "display_data"
    },
    {
     "data": {
      "text/plain": [
       "array([ 1.        ,  2.71828183,  7.3890561 , 20.08553692])"
      ]
     },
     "metadata": {},
     "output_type": "display_data"
    },
    {
     "data": {
      "text/plain": [
       "array([0.        , 1.57079633, 3.14159265, 4.71238898])"
      ]
     },
     "metadata": {},
     "output_type": "display_data"
    },
    {
     "data": {
      "text/plain": [
       "array([1.1, 2.5, 3.7, 4.6, 5.9])"
      ]
     },
     "metadata": {},
     "output_type": "display_data"
    }
   ],
   "source": [
    "#creating numpy arrays\n",
    "\n",
    "a = np.arange(3*3).reshape(3,3)\n",
    "display(a)\n",
    "\n",
    "b = np.arange(3*3).reshape(3,3)**2\n",
    "display(b)\n",
    "\n",
    "c = np.array([-1, -2, 3, 4])\n",
    "display(c)\n",
    "\n",
    "d = np.array([1, 4, 9, 16])\n",
    "display(d)\n",
    "\n",
    "e = np.array([10, 100, 1000, 10000])\n",
    "display(e)\n",
    "\n",
    "f = np.array([1, np.e, np.e**2, np.e**3])\n",
    "display(f)\n",
    "\n",
    "g = np.array([0, np.pi/2, np.pi, 3*np.pi/2])\n",
    "display(g)\n",
    "\n",
    "\n",
    "h = np.array([1.1, 2.5, 3.7, 4.6, 5.9])\n",
    "display(h)"
   ]
  },
  {
   "cell_type": "code",
   "execution_count": 3,
   "id": "ba7c75c9",
   "metadata": {},
   "outputs": [
    {
     "data": {
      "text/plain": [
       "array([[ 0,  2,  6],\n",
       "       [12, 20, 30],\n",
       "       [42, 56, 72]])"
      ]
     },
     "metadata": {},
     "output_type": "display_data"
    }
   ],
   "source": [
    "# 1.numpy.add:\n",
    "\n",
    "display(np.add(a, b))"
   ]
  },
  {
   "cell_type": "code",
   "execution_count": 4,
   "id": "6613bad3",
   "metadata": {},
   "outputs": [
    {
     "data": {
      "text/plain": [
       "array([[  0,   0,  -2],\n",
       "       [ -6, -12, -20],\n",
       "       [-30, -42, -56]])"
      ]
     },
     "metadata": {},
     "output_type": "display_data"
    }
   ],
   "source": [
    "# 2.numpy.subtract:\n",
    "\n",
    "display(np.subtract(a, b))"
   ]
  },
  {
   "cell_type": "code",
   "execution_count": 5,
   "id": "b9ab3d07",
   "metadata": {},
   "outputs": [
    {
     "data": {
      "text/plain": [
       "array([[  0,   1,   8],\n",
       "       [ 27,  64, 125],\n",
       "       [216, 343, 512]])"
      ]
     },
     "metadata": {},
     "output_type": "display_data"
    }
   ],
   "source": [
    "# 3.numpy.multiply:\n",
    "\n",
    "display(np.multiply(a, b))"
   ]
  },
  {
   "cell_type": "code",
   "execution_count": 6,
   "id": "64285d1b",
   "metadata": {},
   "outputs": [
    {
     "name": "stderr",
     "output_type": "stream",
     "text": [
      "/tmp/ipykernel_11804/3453180742.py:3: RuntimeWarning: invalid value encountered in true_divide\n",
      "  display(np.divide(a, b))\n"
     ]
    },
    {
     "data": {
      "text/plain": [
       "array([[       nan, 1.        , 0.5       ],\n",
       "       [0.33333333, 0.25      , 0.2       ],\n",
       "       [0.16666667, 0.14285714, 0.125     ]])"
      ]
     },
     "metadata": {},
     "output_type": "display_data"
    }
   ],
   "source": [
    "# 4.numpy.divide:\n",
    "\n",
    "display(np.divide(a, b))"
   ]
  },
  {
   "cell_type": "code",
   "execution_count": 7,
   "id": "92bc5efc",
   "metadata": {},
   "outputs": [
    {
     "name": "stderr",
     "output_type": "stream",
     "text": [
      "/tmp/ipykernel_11804/340940192.py:3: RuntimeWarning: divide by zero encountered in floor_divide\n",
      "  display(np.floor_divide(a, b))\n"
     ]
    },
    {
     "data": {
      "text/plain": [
       "array([[0, 1, 0],\n",
       "       [0, 0, 0],\n",
       "       [0, 0, 0]])"
      ]
     },
     "metadata": {},
     "output_type": "display_data"
    }
   ],
   "source": [
    "# 5.numpy.floor_divide:\n",
    "\n",
    "display(np.floor_divide(a, b))"
   ]
  },
  {
   "cell_type": "code",
   "execution_count": 8,
   "id": "75630fe2",
   "metadata": {},
   "outputs": [
    {
     "data": {
      "text/plain": [
       "array([[                   1,                    1,                   16],\n",
       "       [               19683,           4294967296,   298023223876953125],\n",
       "       [-5108087961858080768,  6812400838176574343,                    0]])"
      ]
     },
     "metadata": {},
     "output_type": "display_data"
    }
   ],
   "source": [
    "# 6.numpy.power:\n",
    "\n",
    "display(np.power(a, b))"
   ]
  },
  {
   "cell_type": "code",
   "execution_count": 9,
   "id": "79480b94",
   "metadata": {},
   "outputs": [
    {
     "name": "stderr",
     "output_type": "stream",
     "text": [
      "/tmp/ipykernel_11804/3303606514.py:3: RuntimeWarning: divide by zero encountered in remainder\n",
      "  display(np.mod(a, b))\n"
     ]
    },
    {
     "data": {
      "text/plain": [
       "array([[0, 0, 2],\n",
       "       [3, 4, 5],\n",
       "       [6, 7, 8]])"
      ]
     },
     "metadata": {},
     "output_type": "display_data"
    }
   ],
   "source": [
    "# 7.numpy.mod:\n",
    "\n",
    "display(np.mod(a, b))"
   ]
  },
  {
   "cell_type": "code",
   "execution_count": 10,
   "id": "a4e28e2a",
   "metadata": {},
   "outputs": [
    {
     "name": "stderr",
     "output_type": "stream",
     "text": [
      "/tmp/ipykernel_11804/3649448712.py:3: RuntimeWarning: divide by zero encountered in remainder\n",
      "  display(np.remainder(a, b))\n"
     ]
    },
    {
     "data": {
      "text/plain": [
       "array([[0, 0, 2],\n",
       "       [3, 4, 5],\n",
       "       [6, 7, 8]])"
      ]
     },
     "metadata": {},
     "output_type": "display_data"
    }
   ],
   "source": [
    "# 8.numpy.remainder:\n",
    "\n",
    "display(np.remainder(a, b))"
   ]
  },
  {
   "cell_type": "code",
   "execution_count": 11,
   "id": "13497af2",
   "metadata": {},
   "outputs": [
    {
     "name": "stderr",
     "output_type": "stream",
     "text": [
      "/tmp/ipykernel_11804/2130210054.py:3: RuntimeWarning: divide by zero encountered in fmod\n",
      "  display(np.fmod(a, b))\n"
     ]
    },
    {
     "data": {
      "text/plain": [
       "array([[0, 0, 2],\n",
       "       [3, 4, 5],\n",
       "       [6, 7, 8]])"
      ]
     },
     "metadata": {},
     "output_type": "display_data"
    }
   ],
   "source": [
    "# 9.numpy.fmod:\n",
    "\n",
    "display(np.fmod(a, b))"
   ]
  },
  {
   "cell_type": "code",
   "execution_count": 14,
   "id": "0bd40c78",
   "metadata": {},
   "outputs": [
    {
     "data": {
      "text/plain": [
       "array([1, 2, 3, 4])"
      ]
     },
     "metadata": {},
     "output_type": "display_data"
    }
   ],
   "source": [
    "# 10.numpy.abs:\n",
    "\n",
    "display(np.abs(c))"
   ]
  },
  {
   "cell_type": "code",
   "execution_count": 15,
   "id": "4786136b",
   "metadata": {},
   "outputs": [
    {
     "data": {
      "text/plain": [
       "array([1., 2., 3., 4.])"
      ]
     },
     "metadata": {},
     "output_type": "display_data"
    }
   ],
   "source": [
    "# 11.numpy.sqrt:\n",
    "\n",
    "display(np.sqrt(d))"
   ]
  },
  {
   "cell_type": "code",
   "execution_count": 16,
   "id": "239a7277",
   "metadata": {},
   "outputs": [
    {
     "data": {
      "text/plain": [
       "array([2.71828183e+00, 5.45981500e+01, 8.10308393e+03, 8.88611052e+06])"
      ]
     },
     "metadata": {},
     "output_type": "display_data"
    }
   ],
   "source": [
    "# 12.numpy.exp:\n",
    "\n",
    "display(np.exp(d))"
   ]
  },
  {
   "cell_type": "code",
   "execution_count": 21,
   "id": "52d1d9aa",
   "metadata": {},
   "outputs": [
    {
     "name": "stderr",
     "output_type": "stream",
     "text": [
      "/tmp/ipykernel_11804/4143458945.py:3: RuntimeWarning: divide by zero encountered in log\n",
      "  display(np.log(f))\n"
     ]
    },
    {
     "data": {
      "text/plain": [
       "array([      -inf, 0.45158271, 1.14472989, 1.55019499])"
      ]
     },
     "metadata": {},
     "output_type": "display_data"
    }
   ],
   "source": [
    "# 13.numpy.log:\n",
    "\n",
    "display(np.log(f))"
   ]
  },
  {
   "cell_type": "code",
   "execution_count": 20,
   "id": "9cb53d19",
   "metadata": {},
   "outputs": [
    {
     "data": {
      "text/plain": [
       "array([0.        , 0.43429448, 0.86858896, 1.30288345])"
      ]
     },
     "metadata": {},
     "output_type": "display_data"
    }
   ],
   "source": [
    "# 14.numpy.log10:\n",
    "\n",
    "display(np.log10(e))"
   ]
  },
  {
   "cell_type": "code",
   "execution_count": 24,
   "id": "9402049c",
   "metadata": {},
   "outputs": [
    {
     "data": {
      "text/plain": [
       "array([ 0.0000000e+00,  1.0000000e+00,  1.2246468e-16, -1.0000000e+00])"
      ]
     },
     "metadata": {},
     "output_type": "display_data"
    }
   ],
   "source": [
    "# 15.numpy.sin:\n",
    "\n",
    "display(np.sin(g))"
   ]
  },
  {
   "cell_type": "code",
   "execution_count": 25,
   "id": "df447973",
   "metadata": {},
   "outputs": [
    {
     "data": {
      "text/plain": [
       "array([ 1.0000000e+00,  6.1232340e-17, -1.0000000e+00, -1.8369702e-16])"
      ]
     },
     "metadata": {},
     "output_type": "display_data"
    }
   ],
   "source": [
    "# 16.numpy.cos:\n",
    "\n",
    "display(np.cos(g))"
   ]
  },
  {
   "cell_type": "code",
   "execution_count": 26,
   "id": "9ce0465d",
   "metadata": {},
   "outputs": [
    {
     "data": {
      "text/plain": [
       "array([ 0.00000000e+00,  1.63312394e+16, -1.22464680e-16,  5.44374645e+15])"
      ]
     },
     "metadata": {},
     "output_type": "display_data"
    }
   ],
   "source": [
    "# 17.numpy.tan:\n",
    "\n",
    "display(np.tan(g))"
   ]
  },
  {
   "cell_type": "code",
   "execution_count": 30,
   "id": "cccfcb3c",
   "metadata": {},
   "outputs": [
    {
     "data": {
      "text/plain": [
       "array([2., 3., 4., 5., 6.])"
      ]
     },
     "metadata": {},
     "output_type": "display_data"
    }
   ],
   "source": [
    "# 18.numpy.ceil:\n",
    "\n",
    "display(np.ceil(h))"
   ]
  },
  {
   "cell_type": "code",
   "execution_count": 31,
   "id": "e50e23ab",
   "metadata": {},
   "outputs": [
    {
     "data": {
      "text/plain": [
       "array([1., 2., 3., 4., 5.])"
      ]
     },
     "metadata": {},
     "output_type": "display_data"
    }
   ],
   "source": [
    "# 19.numpy.floor:\n",
    "\n",
    "display(np.floor(h))"
   ]
  },
  {
   "cell_type": "code",
   "execution_count": 32,
   "id": "ea62d4a3",
   "metadata": {},
   "outputs": [
    {
     "data": {
      "text/plain": [
       "array([[ 0,  1,  4],\n",
       "       [ 9, 16, 25],\n",
       "       [36, 49, 64]])"
      ]
     },
     "metadata": {},
     "output_type": "display_data"
    }
   ],
   "source": [
    "# 20.numpy.maximum:\n",
    "\n",
    "display(np.maximum(a,b))"
   ]
  },
  {
   "cell_type": "code",
   "execution_count": null,
   "id": "ffc122a1",
   "metadata": {},
   "outputs": [],
   "source": [
    "# 21.numpy.mammum:\n",
    "\n",
    "display(np.maximum(a,b))"
   ]
  }
 ],
 "metadata": {
  "kernelspec": {
   "display_name": "Python 3 (ipykernel)",
   "language": "python",
   "name": "python3"
  },
  "language_info": {
   "codemirror_mode": {
    "name": "ipython",
    "version": 3
   },
   "file_extension": ".py",
   "mimetype": "text/x-python",
   "name": "python",
   "nbconvert_exporter": "python",
   "pygments_lexer": "ipython3",
   "version": "3.9.13"
  }
 },
 "nbformat": 4,
 "nbformat_minor": 5
}
